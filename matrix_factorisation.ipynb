{
  "cells": [
    {
      "cell_type": "markdown",
      "metadata": {
        "id": "view-in-github",
        "colab_type": "text"
      },
      "source": [
        "<a href=\"https://colab.research.google.com/github/tarun1820/Mini_project/blob/main/matrix_factorisation.ipynb\" target=\"_parent\"><img src=\"https://colab.research.google.com/assets/colab-badge.svg\" alt=\"Open In Colab\"/></a>"
      ]
    },
    {
      "cell_type": "markdown",
      "source": [
        "**data looading and matrix factorisation function**\n"
      ],
      "metadata": {
        "id": "OWg8zVXt_uSO"
      }
    },
    {
      "cell_type": "code",
      "execution_count": null,
      "metadata": {
        "id": "sZaNao1ozzlV"
      },
      "outputs": [],
      "source": [
        "import numpy as np\n",
        "import pandas as pd\n",
        "from pathlib import Path\n",
        "\n",
        "\n",
        "users=pd.read_csv(\"/content/drive/MyDrive/moviedata/users.csv\",sep=\"\\t\")\n",
        "users.head()\n",
        "\n",
        "def matrix_factorization(D, k, lmbda, iterations):\n",
        "    m, n = D.shape\n",
        "    # Randomly initialize user and item latent vectors\n",
        "    Pu = np.random.normal(scale=1./k, size=(m, k))\n",
        "    Qv = np.random.normal(scale=1./k, size=(n, k))\n",
        "    # Iteratively update user and item latent vectors until convergence\n",
        "    for _ in range(iterations):\n",
        "        for u in range(m):\n",
        "            # Compute gradient and update user latent vector\n",
        "            rating_indices = D[u, :] > 0\n",
        "#             print(rating_indices)\n",
        "            Qv_rating = Qv[rating_indices, :]#extracting the ratings with are rated by user\n",
        "            D_rating = D[u, rating_indices]\n",
        "            Pu[u, :] = np.linalg.solve(np.dot(Qv_rating.T, Qv_rating) + lmbda*np.eye(k), np.dot(Qv_rating.T, D_rating)) #np.linalg.solve(A,B) for (A^-1)*B\n",
        "        for v in range(n):\n",
        "            # Compute gradient and update item latent vector\n",
        "            rating_indices = D[:, v] > 0\n",
        "            Pu_rating = Pu[rating_indices, :]\n",
        "            D_rating = D[rating_indices, v]\n",
        "            Qv[v, :] = np.linalg.solve(np.dot(Pu_rating.T, Pu_rating) + lmbda*np.eye(k), np.dot(Pu_rating.T, D_rating))\n",
        "    return Pu, Qv\n",
        "\n"
      ]
    },
    {
      "cell_type": "code",
      "source": [
        "            # ****************----------------------------------------------------------------------------------------------------------*********************\n",
        "\n",
        "# Load the ratings data\n",
        "ratings = pd.read_csv('/content/drive/MyDrive/moviedata/ratings.csv',sep='\\t')\n",
        "ratings.to_csv('/content/drive/MyDrive/moviedata/ratings2.csv',sep=',',index=False)\n",
        "# Group the ratings data by user ID\n",
        "grouped_ratings = ratings.groupby('userId')\n",
        "\n",
        "# Define a function to get a random sample of 20% of movies rated by a user\n",
        "def get_sample(group):\n",
        "    return group.sample(frac=0.2, random_state=np.random.seed())\n",
        "\n",
        "# Apply the function to each group and concatenate the results\n",
        "userid_ordered_data = grouped_ratings.apply(get_sample).reset_index(drop=True)\n",
        "\n",
        "print(userid_ordered_data)\n"
      ],
      "metadata": {
        "colab": {
          "base_uri": "https://localhost:8080/"
        },
        "id": "TzpvtEp8AFdh",
        "outputId": "a47e252a-cf7c-473d-ce45-3127bbeb56f5"
      },
      "execution_count": null,
      "outputs": [
        {
          "output_type": "stream",
          "name": "stdout",
          "text": [
            "        userId  movieId  rating  timestamp  user_emb_id  movie_emb_id\n",
            "0            1      608       4  978301398            0           607\n",
            "1            1     1962       4  978301753            0          1961\n",
            "2            1      938       4  978301752            0           937\n",
            "3            1     3114       4  978302174            0          3113\n",
            "4            1     1207       4  978300719            0          1206\n",
            "...        ...      ...     ...        ...          ...           ...\n",
            "200011    6040     3017       1  956716519         6039          3016\n",
            "200012    6040     3083       4  963272132         6039          3082\n",
            "200013    6040     1296       2  956715383         6039          1295\n",
            "200014    6040     3342       3  956715910         6039          3341\n",
            "200015    6040     3168       4  964828900         6039          3167\n",
            "\n",
            "[200016 rows x 6 columns]\n"
          ]
        }
      ]
    },
    {
      "cell_type": "markdown",
      "source": [
        "<h1 class=\"hi\">Transforming tabular data to matrix format</h1>\n",
        "<style>\n",
        ".hi{\n",
        "  \"color\":\"red\"\n",
        "}\n",
        "</style>"
      ],
      "metadata": {
        "id": "tFaad035A6s6"
      }
    },
    {
      "cell_type": "code",
      "source": [
        "base_matrix=userid_ordered_data.pivot(index=\"userId\",columns=\"movieId\",values=\"rating\")\n",
        "\n",
        "#storing coloum indesis\n",
        "movie_index_from_basematrix=base_matrix.columns.values\n",
        "\n",
        "nparray_theta_tidle=base_matrix.to_numpy()\n",
        "print(\"shape of sample raitng data\",nparray_theta_tidle.shape)\n",
        "D_theta_tidle=np.nan_to_num(nparray_theta_tidle)\n",
        "print(D_theta_tidle)"
      ],
      "metadata": {
        "colab": {
          "base_uri": "https://localhost:8080/"
        },
        "id": "A0-0KoC5AwsO",
        "outputId": "d776866b-14ff-47c1-c7ab-c83791e53452"
      },
      "execution_count": null,
      "outputs": [
        {
          "output_type": "stream",
          "name": "stdout",
          "text": [
            "shape of sample raitng data (6040, 3462)\n",
            "[[5. 0. 0. ... 0. 0. 0.]\n",
            " [0. 0. 0. ... 0. 0. 0.]\n",
            " [0. 0. 0. ... 0. 0. 0.]\n",
            " ...\n",
            " [0. 0. 0. ... 0. 0. 0.]\n",
            " [0. 0. 0. ... 0. 0. 0.]\n",
            " [0. 0. 0. ... 0. 0. 0.]]\n"
          ]
        }
      ]
    },
    {
      "cell_type": "markdown",
      "source": [
        "**code to generate latent features of users and movies**\n"
      ],
      "metadata": {
        "id": "HEls0Il0On9A"
      }
    },
    {
      "cell_type": "code",
      "source": [
        "k = 10\n",
        "lmbda = 0.1\n",
        "iterations = 100\n",
        "# Train the model on the training data\n",
        "Pu_theta_tidle, Qv_theta_tidle = matrix_factorization(D_theta_tidle, k, lmbda, iterations)"
      ],
      "metadata": {
        "id": "NhSVb21aOmfb"
      },
      "execution_count": null,
      "outputs": []
    },
    {
      "cell_type": "code",
      "source": [
        "print(Pu_theta_tidle.shape)\n",
        "print(Qv_theta_tidle.shape)"
      ],
      "metadata": {
        "colab": {
          "base_uri": "https://localhost:8080/"
        },
        "id": "xLtNftOD4DHg",
        "outputId": "321ca4f9-91d3-4b2e-c45b-23f878c5ef99"
      },
      "execution_count": 13,
      "outputs": [
        {
          "output_type": "stream",
          "name": "stdout",
          "text": [
            "(6040, 10)\n",
            "(3462, 10)\n"
          ]
        }
      ]
    },
    {
      "cell_type": "code",
      "source": [
        "from scipy.spatial.distance import pdist, squareform\n",
        "\n",
        "\n",
        "def max_euclidian_distance(np_matrix):\n",
        "\n",
        "    # Calculate pairwise distances using Euclidean distance\n",
        "    pairwise_distances = pdist(np_matrix, metric='euclidean')\n",
        "\n",
        "    # Convert pairwise distances to a square matrix\n",
        "    distance_matrix = squareform(pairwise_distances)\n",
        "\n",
        "    # Find the maximum distance (diameter)\n",
        "    diameter = np.max(distance_matrix)\n",
        "\n",
        "    return diameter\n",
        "\n",
        "print(\"Diameter of the data points(D):\", max_euclidian_distance(Pu_theta_tidle))\n"
      ],
      "metadata": {
        "colab": {
          "base_uri": "https://localhost:8080/"
        },
        "id": "QluMDZRexIuI",
        "outputId": "ad093ee7-9816-46d7-cf58-dc94e3880b90"
      },
      "execution_count": 17,
      "outputs": [
        {
          "output_type": "stream",
          "name": "stdout",
          "text": [
            "Diameter of the data points(D): 11.248524663643167\n"
          ]
        }
      ]
    },
    {
      "cell_type": "code",
      "source": [],
      "metadata": {
        "colab": {
          "base_uri": "https://localhost:8080/"
        },
        "id": "SS5HTBUQ61E4",
        "outputId": "29e27d14-e635-4eef-be50-e440531f573c"
      },
      "execution_count": 16,
      "outputs": [
        {
          "output_type": "stream",
          "name": "stdout",
          "text": [
            "L2 Norms of Points: [ 3.74165739  8.77496439 13.92838828]\n"
          ]
        }
      ]
    },
    {
      "cell_type": "code",
      "source": [
        "def compute_gradients(R, U, V):\n",
        "    error_matrix = R - np.dot(U, V.T)\n",
        "    num_observed = np.count_nonzero(~np.isnan(R))\n",
        "\n",
        "    dU = -2 * np.dot(error_matrix, V) / num_observed\n",
        "    dV = -2 * np.dot(error_matrix.T, U) / num_observed\n",
        "\n",
        "    return dU, dV\n",
        "\n",
        "\n",
        "dU, dV = compute_gradients(D_theta_tidle, Pu_theta_tidle, Qv_theta_tidle)\n",
        "\n",
        "print(dU.shape)\n",
        "\n"
      ],
      "metadata": {
        "colab": {
          "base_uri": "https://localhost:8080/"
        },
        "id": "RbjTBdZc3X4Y",
        "outputId": "4ed64054-ccc0-4acc-e5cf-13086256bf61"
      },
      "execution_count": 18,
      "outputs": [
        {
          "output_type": "stream",
          "name": "stdout",
          "text": [
            "(6040, 10)\n"
          ]
        }
      ]
    },
    {
      "cell_type": "code",
      "source": [
        "l2_norms_of_gradient = np.linalg.norm(dU, axis=1)\n",
        "\n",
        "print(\"L2 Norms of Points:\", l2_norms_of_gradient)\n",
        "print(\"g=\",np.max(l2_norms_of_gradient))"
      ],
      "metadata": {
        "colab": {
          "base_uri": "https://localhost:8080/"
        },
        "id": "BqExzac97Xe3",
        "outputId": "d4758317-87ee-42cd-92e6-2a7b32e635ca"
      },
      "execution_count": 19,
      "outputs": [
        {
          "output_type": "stream",
          "name": "stdout",
          "text": [
            "L2 Norms of Points: [0.00098679 0.00103509 0.00101421 ... 0.00092673 0.00124164 0.00085117]\n",
            "g= 0.0016640300789605418\n"
          ]
        }
      ]
    },
    {
      "cell_type": "code",
      "source": [
        "#saving the parameters\n",
        "np.savetxt('/content/drive/MyDrive/moviedata/latent_user.csv', Pu_theta_tidle, delimiter=\",\")\n",
        "np.savetxt('/content/drive/MyDrive/moviedata/latent_movie.csv', Qv_theta_tidle, delimiter=\",\")"
      ],
      "metadata": {
        "id": "kd_K5LmXWhuq"
      },
      "execution_count": null,
      "outputs": []
    },
    {
      "cell_type": "markdown",
      "source": [
        "**finding values of G and D?**"
      ],
      "metadata": {
        "id": "0rAyomswsJXz"
      }
    },
    {
      "cell_type": "code",
      "source": [
        "import numpy as np\n",
        "import pandas as pd\n",
        "users=pd.read_csv(\"/content/drive/MyDrive/moviedata/ratings.csv\",sep=\"\\t\")\n",
        "users.head()"
      ],
      "metadata": {
        "colab": {
          "base_uri": "https://localhost:8080/",
          "height": 206
        },
        "id": "vX29GCU4VrTO",
        "outputId": "18ceb968-9169-4bbf-e978-0ebd592ccefd"
      },
      "execution_count": null,
      "outputs": [
        {
          "output_type": "execute_result",
          "data": {
            "text/plain": [
              "   userId  movieId  rating  timestamp  user_emb_id  movie_emb_id\n",
              "0       1     1193       5  978300760            0          1192\n",
              "1       1      661       3  978302109            0           660\n",
              "2       1      914       3  978301968            0           913\n",
              "3       1     3408       4  978300275            0          3407\n",
              "4       1     2355       5  978824291            0          2354"
            ],
            "text/html": [
              "\n",
              "  <div id=\"df-4924ca32-30a1-435f-b5a6-ca838040672e\">\n",
              "    <div class=\"colab-df-container\">\n",
              "      <div>\n",
              "<style scoped>\n",
              "    .dataframe tbody tr th:only-of-type {\n",
              "        vertical-align: middle;\n",
              "    }\n",
              "\n",
              "    .dataframe tbody tr th {\n",
              "        vertical-align: top;\n",
              "    }\n",
              "\n",
              "    .dataframe thead th {\n",
              "        text-align: right;\n",
              "    }\n",
              "</style>\n",
              "<table border=\"1\" class=\"dataframe\">\n",
              "  <thead>\n",
              "    <tr style=\"text-align: right;\">\n",
              "      <th></th>\n",
              "      <th>userId</th>\n",
              "      <th>movieId</th>\n",
              "      <th>rating</th>\n",
              "      <th>timestamp</th>\n",
              "      <th>user_emb_id</th>\n",
              "      <th>movie_emb_id</th>\n",
              "    </tr>\n",
              "  </thead>\n",
              "  <tbody>\n",
              "    <tr>\n",
              "      <th>0</th>\n",
              "      <td>1</td>\n",
              "      <td>1193</td>\n",
              "      <td>5</td>\n",
              "      <td>978300760</td>\n",
              "      <td>0</td>\n",
              "      <td>1192</td>\n",
              "    </tr>\n",
              "    <tr>\n",
              "      <th>1</th>\n",
              "      <td>1</td>\n",
              "      <td>661</td>\n",
              "      <td>3</td>\n",
              "      <td>978302109</td>\n",
              "      <td>0</td>\n",
              "      <td>660</td>\n",
              "    </tr>\n",
              "    <tr>\n",
              "      <th>2</th>\n",
              "      <td>1</td>\n",
              "      <td>914</td>\n",
              "      <td>3</td>\n",
              "      <td>978301968</td>\n",
              "      <td>0</td>\n",
              "      <td>913</td>\n",
              "    </tr>\n",
              "    <tr>\n",
              "      <th>3</th>\n",
              "      <td>1</td>\n",
              "      <td>3408</td>\n",
              "      <td>4</td>\n",
              "      <td>978300275</td>\n",
              "      <td>0</td>\n",
              "      <td>3407</td>\n",
              "    </tr>\n",
              "    <tr>\n",
              "      <th>4</th>\n",
              "      <td>1</td>\n",
              "      <td>2355</td>\n",
              "      <td>5</td>\n",
              "      <td>978824291</td>\n",
              "      <td>0</td>\n",
              "      <td>2354</td>\n",
              "    </tr>\n",
              "  </tbody>\n",
              "</table>\n",
              "</div>\n",
              "      <button class=\"colab-df-convert\" onclick=\"convertToInteractive('df-4924ca32-30a1-435f-b5a6-ca838040672e')\"\n",
              "              title=\"Convert this dataframe to an interactive table.\"\n",
              "              style=\"display:none;\">\n",
              "        \n",
              "  <svg xmlns=\"http://www.w3.org/2000/svg\" height=\"24px\"viewBox=\"0 0 24 24\"\n",
              "       width=\"24px\">\n",
              "    <path d=\"M0 0h24v24H0V0z\" fill=\"none\"/>\n",
              "    <path d=\"M18.56 5.44l.94 2.06.94-2.06 2.06-.94-2.06-.94-.94-2.06-.94 2.06-2.06.94zm-11 1L8.5 8.5l.94-2.06 2.06-.94-2.06-.94L8.5 2.5l-.94 2.06-2.06.94zm10 10l.94 2.06.94-2.06 2.06-.94-2.06-.94-.94-2.06-.94 2.06-2.06.94z\"/><path d=\"M17.41 7.96l-1.37-1.37c-.4-.4-.92-.59-1.43-.59-.52 0-1.04.2-1.43.59L10.3 9.45l-7.72 7.72c-.78.78-.78 2.05 0 2.83L4 21.41c.39.39.9.59 1.41.59.51 0 1.02-.2 1.41-.59l7.78-7.78 2.81-2.81c.8-.78.8-2.07 0-2.86zM5.41 20L4 18.59l7.72-7.72 1.47 1.35L5.41 20z\"/>\n",
              "  </svg>\n",
              "      </button>\n",
              "      \n",
              "  <style>\n",
              "    .colab-df-container {\n",
              "      display:flex;\n",
              "      flex-wrap:wrap;\n",
              "      gap: 12px;\n",
              "    }\n",
              "\n",
              "    .colab-df-convert {\n",
              "      background-color: #E8F0FE;\n",
              "      border: none;\n",
              "      border-radius: 50%;\n",
              "      cursor: pointer;\n",
              "      display: none;\n",
              "      fill: #1967D2;\n",
              "      height: 32px;\n",
              "      padding: 0 0 0 0;\n",
              "      width: 32px;\n",
              "    }\n",
              "\n",
              "    .colab-df-convert:hover {\n",
              "      background-color: #E2EBFA;\n",
              "      box-shadow: 0px 1px 2px rgba(60, 64, 67, 0.3), 0px 1px 3px 1px rgba(60, 64, 67, 0.15);\n",
              "      fill: #174EA6;\n",
              "    }\n",
              "\n",
              "    [theme=dark] .colab-df-convert {\n",
              "      background-color: #3B4455;\n",
              "      fill: #D2E3FC;\n",
              "    }\n",
              "\n",
              "    [theme=dark] .colab-df-convert:hover {\n",
              "      background-color: #434B5C;\n",
              "      box-shadow: 0px 1px 3px 1px rgba(0, 0, 0, 0.15);\n",
              "      filter: drop-shadow(0px 1px 2px rgba(0, 0, 0, 0.3));\n",
              "      fill: #FFFFFF;\n",
              "    }\n",
              "  </style>\n",
              "\n",
              "      <script>\n",
              "        const buttonEl =\n",
              "          document.querySelector('#df-4924ca32-30a1-435f-b5a6-ca838040672e button.colab-df-convert');\n",
              "        buttonEl.style.display =\n",
              "          google.colab.kernel.accessAllowed ? 'block' : 'none';\n",
              "\n",
              "        async function convertToInteractive(key) {\n",
              "          const element = document.querySelector('#df-4924ca32-30a1-435f-b5a6-ca838040672e');\n",
              "          const dataTable =\n",
              "            await google.colab.kernel.invokeFunction('convertToInteractive',\n",
              "                                                     [key], {});\n",
              "          if (!dataTable) return;\n",
              "\n",
              "          const docLinkHtml = 'Like what you see? Visit the ' +\n",
              "            '<a target=\"_blank\" href=https://colab.research.google.com/notebooks/data_table.ipynb>data table notebook</a>'\n",
              "            + ' to learn more about interactive tables.';\n",
              "          element.innerHTML = '';\n",
              "          dataTable['output_type'] = 'display_data';\n",
              "          await google.colab.output.renderOutput(dataTable, element);\n",
              "          const docLink = document.createElement('div');\n",
              "          docLink.innerHTML = docLinkHtml;\n",
              "          element.appendChild(docLink);\n",
              "        }\n",
              "      </script>\n",
              "    </div>\n",
              "  </div>\n",
              "  "
            ]
          },
          "metadata": {},
          "execution_count": 2
        }
      ]
    },
    {
      "cell_type": "code",
      "execution_count": null,
      "metadata": {
        "colab": {
          "base_uri": "https://localhost:8080/"
        },
        "id": "7M1GGpqi0aD2",
        "outputId": "6def9049-9cb1-4a27-eead-b239ad1a12de"
      },
      "outputs": [
        {
          "output_type": "stream",
          "name": "stdout",
          "text": [
            "shape of comple rating data (6040, 3706)\n",
            "[[5. 0. 0. ... 0. 0. 0.]\n",
            " [0. 0. 0. ... 0. 0. 0.]\n",
            " [0. 0. 0. ... 0. 0. 0.]\n",
            " ...\n",
            " [0. 0. 0. ... 0. 0. 0.]\n",
            " [0. 0. 0. ... 0. 0. 0.]\n",
            " [3. 0. 0. ... 0. 0. 0.]]\n"
          ]
        }
      ],
      "source": [
        "df = pd.read_csv(\"/content/drive/MyDrive/moviedata/ratings.csv\",sep=\"\\t\")\n",
        "\n",
        "\n",
        "# print(df.groupby(\"userId\").groups)\n",
        "# grouped_by_userId=df.groupby(\"userId\");\n",
        "# filtered_data_frame=grouped_by_userId.filter(lambda x:x[\"movieId\"].count()>20)\n",
        "# grouped_by_movieId=filtered_data_frame.groupby(\"movieId\");\n",
        "# filtered_data_frame=grouped_by_movieId.filter(lambda x:x[\"userId\"].count()>20)\n",
        "pivoted_data=df.pivot(index=\"userId\",columns=\"movieId\",values=\"rating\")\n",
        "# col_list=list(pivoted_data.columns)\n",
        "# print(col_list);\n",
        "\n",
        "# movie index and movieid element list\n",
        "movie_index=pivoted_data.columns.values\n",
        "# print(movie_index)\n",
        "nparray=pivoted_data.to_numpy()\n",
        "print(\"shape of comple rating data\",nparray.shape)\n",
        "D=np.nan_to_num(nparray)\n",
        "print(D)"
      ]
    },
    {
      "cell_type": "code",
      "source": [
        "def rmse_2D(X,Y):\n",
        "  n=len(X)\n",
        "  # print(\"x is ==\",X)\n",
        "  m=len(X[0])\n",
        "\n",
        "  sum_squ=0\n",
        "  denominator=0\n",
        "  for i in range(n):\n",
        "    for j in range(m):\n",
        "      if X[i][j]!=0:\n",
        "          sum_squ=sum_squ+(X[i][j]-Y[i][j])**2\n",
        "          denominator+=1\n",
        "  return sum_squ/denominator\n",
        "\n",
        "def rmse_1D(X,Y):\n",
        "  n=len(X)\n",
        "  sum_squ=0\n",
        "  denominator=0\n",
        "  for i in range(n):\n",
        "      if X[i]!=0:\n",
        "          sum_squ=sum_squ+(X[i]-Y[i])**2\n",
        "          denominator+=1\n",
        "  return sum_squ/denominator"
      ],
      "metadata": {
        "id": "gj-nGC2kaN6J"
      },
      "execution_count": null,
      "outputs": []
    },
    {
      "cell_type": "code",
      "execution_count": null,
      "metadata": {
        "colab": {
          "base_uri": "https://localhost:8080/"
        },
        "id": "ZGjaWlYz0dAP",
        "outputId": "7085885e-6014-4a68-a492-5bf5a78ce178"
      },
      "outputs": [
        {
          "output_type": "stream",
          "name": "stdout",
          "text": [
            "[[5. 0. 0. ... 0. 0. 0.]\n",
            " [0. 0. 0. ... 0. 0. 0.]\n",
            " [0. 0. 0. ... 0. 0. 0.]\n",
            " ...\n",
            " [0. 0. 0. ... 0. 0. 0.]\n",
            " [0. 0. 0. ... 0. 0. 0.]\n",
            " [3. 0. 0. ... 0. 0. 0.]]\n",
            "[[ 4.95398844  4.94658052  2.25571723 ...  1.11857757  3.21245784\n",
            "   4.87623331]\n",
            " [ 4.77120004  4.65424938  3.97724858 ...  2.1973751   3.11137675\n",
            "   3.78909258]\n",
            " [ 4.34678693  4.26272434 -0.00985729 ...  5.95943125  0.88237352\n",
            "   2.90727178]\n",
            " ...\n",
            " [ 3.30560386  3.05538773  4.97876234 ...  3.02962411  2.35126934\n",
            "   1.81812611]\n",
            " [ 4.974188    3.62759417  3.18149544 ...  2.13910112  2.29738163\n",
            "   3.76209089]\n",
            " [ 3.99743906  2.53997856  2.03929316 ...  2.90802366  3.37608935\n",
            "   4.09866854]]\n",
            "0.5554390031246732\n",
            "[[5. 0. 0. ... 0. 0. 0.]\n",
            " [0. 0. 0. ... 0. 0. 0.]\n",
            " [0. 0. 0. ... 0. 0. 0.]\n",
            " ...\n",
            " [0. 0. 0. ... 0. 0. 0.]\n",
            " [0. 0. 0. ... 0. 0. 0.]\n",
            " [3. 0. 0. ... 0. 0. 0.]]\n",
            "[[4.17916585 3.80170016 4.31673926 ... 4.26574681 3.03514176 3.58629048]\n",
            " [4.4376726  3.52332644 3.20415251 ... 4.22971    3.70392042 4.02299625]\n",
            " [3.54484257 3.60510292 4.16266515 ... 3.71656031 4.28868112 3.85919714]\n",
            " ...\n",
            " [3.88907898 3.43218845 2.29156798 ... 3.34357613 6.63260074 5.12820694]\n",
            " [4.02820722 3.24713919 2.62802295 ... 3.77564316 3.59055513 3.61422783]\n",
            " [3.16781773 1.87139576 1.17605948 ... 2.90459036 5.69874918 3.83207457]]\n",
            "0.7555154392773332\n"
          ]
        }
      ],
      "source": [
        "\n",
        "k = 10\n",
        "lmbda = 0.1\n",
        "iterations = 100\n",
        "\n",
        "# Train the model on the training data\n",
        "Pu_theta_tidle, Qv_theta_tidle = matrix_factorization(D_theta_tidle, k, lmbda, iterations)\n",
        "\n",
        "# Compute the predicted ratings for the test data\n",
        "\n",
        "print(D_theta_tidle)\n",
        "D_pred_theta_tidle = np.dot(Pu_theta_tidle, Qv_theta_tidle.T)\n",
        "\n",
        "print(D_pred_theta_tidle)\n",
        "rmse_theta_tidle = np.sqrt(rmse_2D(D_theta_tidle,D_pred_theta_tidle))\n",
        "print(rmse_theta_tidle)\n",
        "\n",
        "\n",
        "Pu, Qv = matrix_factorization(D, k, lmbda, iterations)\n",
        "\n",
        "# Compute the predicted ratings for the test data\n",
        "print(D)\n",
        "D_pred= np.dot(Pu, Qv.T)\n",
        "\n",
        "print(D_pred)\n",
        "rmse = np.sqrt(rmse_2D(D,D_pred))\n",
        "print(rmse)\n"
      ]
    },
    {
      "cell_type": "code",
      "execution_count": null,
      "metadata": {
        "id": "kZzD-sSz3EQn"
      },
      "outputs": [],
      "source": [
        "no_of_users=len(Pu)\n",
        "feedback={\n",
        "    \"sum_loss_theta\":np.array([.0 for user in range(no_of_users)]),\n",
        "    \"sum_loss_theta_tidle\":np.array([.0 for user in range(no_of_users)])\n",
        "    }\n",
        "\n",
        "def loss_each(rating,user_latent,movie_latent):\n",
        "  D_pred=np.dot(user_latent,movie_latent.T)\n",
        "  loss=np.sqrt(rmse_1D(rating,D_pred))\n",
        "  return loss\n",
        "\n",
        "\n",
        "# projection function\n",
        "def find_beta_t(r_t,z_t,theta):\n",
        "  beta_t=[]\n",
        "  for i in range(len(z_t)):\n",
        "    # print(i)\n",
        "    norm_dis=np.linalg.norm(z_t[i]-theta[i])\n",
        "    # print(norm_dis)\n",
        "\n",
        "    if norm_dis<=r_t[i]:\n",
        "      beta_t.append(0)\n",
        "    else:\n",
        "      # print(r_t[i])\n",
        "      beta_t.append(1-(r_t[i]/norm_dis))\n",
        "  return beta_t\n",
        "\n",
        "def projected_theta(beta_t,Pu_theta_tidle,Pu):\n",
        "  # print(len(Pu))\n",
        "  # print(len(Pu_theta_tidle))\n",
        "  pro_theta=[None]*len(Pu)\n",
        "\n",
        "  for i in range(len(Pu_theta_tidle)):\n",
        "    single_pro=beta_t[i]*Pu_theta_tidle[i]+(1-beta_t[i])*Pu[i]\n",
        "    # print(single_pro)\n",
        "    pro_theta[i]=single_pro\n",
        "  return pro_theta\n",
        "\n",
        "\n"
      ]
    },
    {
      "cell_type": "code",
      "source": [
        "no_of_users=len(Pu)\n",
        "loss_t=np.array([loss_each(D[i],Pu[i],Qv) for i in range(no_of_users)])\n",
        "loss_tidle=np.array([loss_each(D_theta_tidle[i],Pu_theta_tidle[i],Qv_theta_tidle) for i in range(no_of_users)])\n",
        "feedback[\"sum_loss_theta\"]+=loss_t\n",
        "feedback[\"sum_loss_theta_tidle\"]+=loss_tidle\n",
        "Di=20000\n",
        "G=12\n",
        "e_l=1e-4\n",
        "e_u=10\n",
        "alpha=3\n",
        "\n",
        "\n",
        "#radius for each user\n",
        "\n",
        "# print(min((feedback[\"sum_loss_theta\"]-(1+alpha)*feedback[\"sum_loss_theta_tidle\"]-alpha*float(e_l))/(Di*G)))\n",
        "g_list=[]\n",
        "for i in range(1,10):\n",
        "  g_list.append(i)\n",
        "rmse_list=[]\n",
        "for G in g_list:\n",
        "    radius_fraction=1+((feedback[\"sum_loss_theta\"]-(1+alpha)*feedback[\"sum_loss_theta_tidle\"]-alpha*float(e_l))/(Di*G))\n",
        "    # print(len(radius_fraction))\n",
        "    rt=np.array([max(0,i) for i in radius_fraction])\n",
        "    # print(rt)\n",
        "    r_t=(1-rt)*Di\n",
        "    print(max(r_t))\n",
        "    # r_t=r_t.reshape(6040,1)\n",
        "    # print(r_t)\n",
        "\n",
        "    beta_t=find_beta_t(r_t,Pu_theta_tidle,Pu)\n",
        "    # print(beta_t)\n",
        "    # print(max(beta_t))\n",
        "\n",
        "\n",
        "    theta_t=projected_theta(beta_t,Pu_theta_tidle,Pu)\n",
        "    # print(theta_t)\n",
        "\n",
        "    D_pred_project= np.dot(theta_t, Qv.T)\n",
        "    # print(\"projected = \",D_pred_project[0])\n",
        "\n",
        "    rmse = np.sqrt(rmse_2D(D,D_pred_project))\n",
        "    # print(rmse)\n",
        "    rmse_list.append(rmse)\n",
        "\n",
        "    D_pred= np.dot(Pu, Qv.T)\n",
        "\n",
        "    # print(\"original latent=\",D_pred[0])\n",
        "    rmse = np.sqrt(rmse_2D(D,D_pred))\n",
        "    # print(rmse)\n",
        "print(rmse_list)\n",
        "import matplotlib.pyplot as plt\n",
        "plt.scatter(g_list, rmse_list)\n",
        "plt.xlabel(\"G\")\n",
        "plt.ylabel(\"rmse\")\n",
        "plt.show()\n"
      ],
      "metadata": {
        "colab": {
          "base_uri": "https://localhost:8080/",
          "height": 623
        },
        "id": "KdiTJDIuVz33",
        "outputId": "2c830ffc-527e-46eb-cebd-ba680569b05d"
      },
      "execution_count": null,
      "outputs": [
        {
          "output_type": "stream",
          "name": "stdout",
          "text": [
            "2.8361225477002705\n",
            "1.4180612738501353\n",
            "0.9453741825660167\n",
            "0.7090306369250676\n",
            "0.5672245095400541\n",
            "0.47268709128411857\n",
            "0.4051603639565471\n",
            "0.35451531846364404\n",
            "0.3151247275212654\n",
            "[3.097606719746038, 3.430788895253879, 3.5461553154224266, 3.6045309259175435, 3.6397651029070297, 3.663338772411933, 3.680217508673181, 3.6928983371158717, 3.7027739706616494]\n"
          ]
        },
        {
          "output_type": "display_data",
          "data": {
            "text/plain": [
              "<Figure size 640x480 with 1 Axes>"
            ],
            "image/png": "[encoded data removed]"
          },
          "metadata": {}
        }
      ]
    },
    {
      "cell_type": "code",
      "source": [
        "!pip install gower\n",
        "import gower\n",
        "gower.gower_matrix(users)\n",
        "users.loc[len(users.index)] = [6040,6041,\"M\",25,10,12233,\"25-34\",\"other or not specified\"]"
      ],
      "metadata": {
        "colab": {
          "base_uri": "https://localhost:8080/",
          "height": 408
        },
        "id": "f1yZOAtahoWj",
        "outputId": "5f061f65-a4fc-4205-944f-0efb86a9fcf8"
      },
      "execution_count": null,
      "outputs": [
        {
          "output_type": "stream",
          "name": "stdout",
          "text": [
            "Looking in indexes: https://pypi.org/simple, https://us-python.pkg.dev/colab-wheels/public/simple/\n",
            "Requirement already satisfied: gower in /usr/local/lib/python3.10/dist-packages (0.1.2)\n",
            "Requirement already satisfied: numpy in /usr/local/lib/python3.10/dist-packages (from gower) (1.24.3)\n",
            "Requirement already satisfied: scipy in /usr/local/lib/python3.10/dist-packages (from gower) (1.10.1)\n"
          ]
        },
        {
          "output_type": "error",
          "ename": "UFuncTypeError",
          "evalue": "ignored",
          "traceback": [
            "\u001b[0;31m---------------------------------------------------------------------------\u001b[0m",
            "\u001b[0;31mUFuncTypeError\u001b[0m                            Traceback (most recent call last)",
            "\u001b[0;32m<ipython-input-9-7efb9d8e7fe5>\u001b[0m in \u001b[0;36m<cell line: 3>\u001b[0;34m()\u001b[0m\n\u001b[1;32m      1\u001b[0m \u001b[0mget_ipython\u001b[0m\u001b[0;34m(\u001b[0m\u001b[0;34m)\u001b[0m\u001b[0;34m.\u001b[0m\u001b[0msystem\u001b[0m\u001b[0;34m(\u001b[0m\u001b[0;34m'pip install gower'\u001b[0m\u001b[0;34m)\u001b[0m\u001b[0;34m\u001b[0m\u001b[0;34m\u001b[0m\u001b[0m\n\u001b[1;32m      2\u001b[0m \u001b[0;32mimport\u001b[0m \u001b[0mgower\u001b[0m\u001b[0;34m\u001b[0m\u001b[0;34m\u001b[0m\u001b[0m\n\u001b[0;32m----> 3\u001b[0;31m \u001b[0mgower\u001b[0m\u001b[0;34m.\u001b[0m\u001b[0mgower_matrix\u001b[0m\u001b[0;34m(\u001b[0m\u001b[0musers\u001b[0m\u001b[0;34m)\u001b[0m\u001b[0;34m\u001b[0m\u001b[0;34m\u001b[0m\u001b[0m\n\u001b[0m\u001b[1;32m      4\u001b[0m \u001b[0musers\u001b[0m\u001b[0;34m.\u001b[0m\u001b[0mloc\u001b[0m\u001b[0;34m[\u001b[0m\u001b[0mlen\u001b[0m\u001b[0;34m(\u001b[0m\u001b[0musers\u001b[0m\u001b[0;34m.\u001b[0m\u001b[0mindex\u001b[0m\u001b[0;34m)\u001b[0m\u001b[0;34m]\u001b[0m \u001b[0;34m=\u001b[0m \u001b[0;34m[\u001b[0m\u001b[0;36m6040\u001b[0m\u001b[0;34m,\u001b[0m\u001b[0;36m6041\u001b[0m\u001b[0;34m,\u001b[0m\u001b[0;34m\"M\"\u001b[0m\u001b[0;34m,\u001b[0m\u001b[0;36m25\u001b[0m\u001b[0;34m,\u001b[0m\u001b[0;36m10\u001b[0m\u001b[0;34m,\u001b[0m\u001b[0;36m12233\u001b[0m\u001b[0;34m,\u001b[0m\u001b[0;34m\"25-34\"\u001b[0m\u001b[0;34m,\u001b[0m\u001b[0;34m\"other or not specified\"\u001b[0m\u001b[0;34m]\u001b[0m\u001b[0;34m\u001b[0m\u001b[0;34m\u001b[0m\u001b[0m\n",
            "\u001b[0;32m/usr/local/lib/python3.10/dist-packages/gower/gower_dist.py\u001b[0m in \u001b[0;36mgower_matrix\u001b[0;34m(data_x, data_y, weight, cat_features)\u001b[0m\n\u001b[1;32m     60\u001b[0m \u001b[0;34m\u001b[0m\u001b[0m\n\u001b[1;32m     61\u001b[0m     \u001b[0;31m# This is to normalize the numeric values between 0 and 1.\u001b[0m\u001b[0;34m\u001b[0m\u001b[0;34m\u001b[0m\u001b[0m\n\u001b[0;32m---> 62\u001b[0;31m     \u001b[0mZ_num\u001b[0m \u001b[0;34m=\u001b[0m \u001b[0mnp\u001b[0m\u001b[0;34m.\u001b[0m\u001b[0mdivide\u001b[0m\u001b[0;34m(\u001b[0m\u001b[0mZ_num\u001b[0m \u001b[0;34m,\u001b[0m\u001b[0mnum_max\u001b[0m\u001b[0;34m,\u001b[0m\u001b[0mout\u001b[0m\u001b[0;34m=\u001b[0m\u001b[0mnp\u001b[0m\u001b[0;34m.\u001b[0m\u001b[0mzeros_like\u001b[0m\u001b[0;34m(\u001b[0m\u001b[0mZ_num\u001b[0m\u001b[0;34m)\u001b[0m\u001b[0;34m,\u001b[0m \u001b[0mwhere\u001b[0m\u001b[0;34m=\u001b[0m\u001b[0mnum_max\u001b[0m\u001b[0;34m!=\u001b[0m\u001b[0;36m0\u001b[0m\u001b[0;34m)\u001b[0m\u001b[0;34m\u001b[0m\u001b[0;34m\u001b[0m\u001b[0m\n\u001b[0m\u001b[1;32m     63\u001b[0m     \u001b[0mZ_cat\u001b[0m \u001b[0;34m=\u001b[0m \u001b[0mZ\u001b[0m\u001b[0;34m[\u001b[0m\u001b[0;34m:\u001b[0m\u001b[0;34m,\u001b[0m\u001b[0mcat_features\u001b[0m\u001b[0;34m]\u001b[0m\u001b[0;34m\u001b[0m\u001b[0;34m\u001b[0m\u001b[0m\n\u001b[1;32m     64\u001b[0m \u001b[0;34m\u001b[0m\u001b[0m\n",
            "\u001b[0;31mUFuncTypeError\u001b[0m: Cannot cast ufunc 'divide' output from dtype('float64') to dtype('int64') with casting rule 'same_kind'"
          ]
        }
      ]
    },
    {
      "cell_type": "code",
      "source": [
        "\n",
        "\n",
        "indx=6041\n",
        "depend_users=gower.gower_topn(users.iloc[indx-1:,:], users.iloc[:,], n = 10)\n",
        "similar=depend_users['index']\n",
        "print(similar)\n",
        "print(Pu)\n",
        "print(len(Pu))\n",
        "a=[]\n",
        "for i in range(1,len(similar)):\n",
        "  a.append(Pu[similar[i]])\n",
        "print(a)\n",
        "newuserPu=[]\n",
        "for i in range(0,len(a[0])):\n",
        "  c=0\n",
        "  for j in range(0,len(a)):\n",
        "    c=c+a[j][i]\n",
        "  c=c/len(a)\n",
        "  newuserPu.append(c)\n",
        "Pu=Pu.tolist()\n",
        "Pu.append(newuserPu)\n",
        "Pu=np.array(Pu)\n",
        "print(newuserPu)\n",
        "print(Pu)"
      ],
      "metadata": {
        "colab": {
          "base_uri": "https://localhost:8080/"
        },
        "id": "IqALvCsxnKhR",
        "outputId": "1a38770b-0d79-4227-b0a2-6625d277d3a1"
      },
      "execution_count": null,
      "outputs": [
        {
          "output_type": "stream",
          "name": "stdout",
          "text": [
            "[6040 6022 6018 5895 5835 5815 5813 5787 5769 5747]\n",
            "[[-4.71708622  0.08603111  0.89216644 ... -0.96905341 -0.4934448\n",
            "  -0.01319759]\n",
            " [-4.16440194  0.09685381  1.61262538 ... -0.09037793 -0.16596969\n",
            "  -0.11734659]\n",
            " [-4.584814    0.46436838  0.24219965 ...  0.40352423  0.06621578\n",
            "   0.21614679]\n",
            " ...\n",
            " [-3.94004876  0.04592633  1.18100352 ...  0.09716273 -0.53980189\n",
            "  -0.7759658 ]\n",
            " [-2.73134503  0.54768004  1.07120138 ...  1.10748544 -1.63644225\n",
            "  -0.64377028]\n",
            " [-3.95700993  0.07624527  0.34486623 ... -0.15519414 -0.37805335\n",
            "  -0.55026922]]\n",
            "6041\n",
            "[array([-4.13745855,  0.86247358,  1.31973444, -0.34865479,  2.25526865,\n",
            "        0.85878454, -0.13136483, -0.54542066,  0.39473791, -0.68110204]), array([-4.35988998,  0.17008443,  0.44817897,  0.03152999,  2.37009212,\n",
            "        0.93569877, -0.80579425, -0.41556515, -0.76465183, -0.26540779]), array([-2.9861965 , -1.03287034,  0.14981231, -0.0325778 ,  2.61946403,\n",
            "       -0.05097951,  0.87585405, -0.7249649 , -0.8100404 , -1.09900623]), array([-4.24446434,  0.35006216,  1.00258199, -0.78545929,  2.16154459,\n",
            "        0.62317296,  0.12032738,  0.28598329, -1.38551759, -0.71899077]), array([-4.24481085, -0.29866171, -0.61916887, -0.31177076,  2.73870757,\n",
            "        2.51372534, -1.64042351, -0.37792419,  0.58630808,  0.37500986]), array([-3.70707358, -0.12031202, -1.15531413, -1.17467446,  3.48756439,\n",
            "        1.09053499, -0.33061868, -0.69927062,  0.69234904, -1.84042976]), array([-3.56474266, -0.17385386,  0.70485899, -1.67583903,  3.37280467,\n",
            "        1.17595992,  0.15593854,  0.24065305, -1.189819  , -0.6371384 ]), array([-4.29226512,  0.17256912,  0.90247069, -1.40179338,  2.64711922,\n",
            "        0.97484162, -0.64105826,  0.60680802, -1.35235003, -0.35126694]), array([-4.07618776,  0.75671604,  0.35064167, -1.04948074,  3.0513751 ,\n",
            "        1.17271872, -0.13102839,  0.23295389,  0.42650367,  0.26590907])]\n",
            "[-3.9570099262795324, 0.07624526759443545, 0.34486622948275836, -0.7498578078999318, 2.744882260563079, 1.0327174824617036, -0.280907549148843, -0.15519414125857958, -0.3780533503791348, -0.5502692220913076]\n",
            "[[-4.71708622  0.08603111  0.89216644 ... -0.96905341 -0.4934448\n",
            "  -0.01319759]\n",
            " [-4.16440194  0.09685381  1.61262538 ... -0.09037793 -0.16596969\n",
            "  -0.11734659]\n",
            " [-4.584814    0.46436838  0.24219965 ...  0.40352423  0.06621578\n",
            "   0.21614679]\n",
            " ...\n",
            " [-2.73134503  0.54768004  1.07120138 ...  1.10748544 -1.63644225\n",
            "  -0.64377028]\n",
            " [-3.95700993  0.07624527  0.34486623 ... -0.15519414 -0.37805335\n",
            "  -0.55026922]\n",
            " [-3.95700993  0.07624527  0.34486623 ... -0.15519414 -0.37805335\n",
            "  -0.55026922]]\n"
          ]
        }
      ]
    },
    {
      "cell_type": "code",
      "execution_count": null,
      "metadata": {
        "colab": {
          "base_uri": "https://localhost:8080/",
          "height": 397
        },
        "id": "0Z3hu2ebStOW",
        "outputId": "fb50fbbd-cede-47be-821e-46ff94d14689"
      },
      "outputs": [
        {
          "output_type": "error",
          "ename": "FileNotFoundError",
          "evalue": "ignored",
          "traceback": [
            "\u001b[0;31m---------------------------------------------------------------------------\u001b[0m",
            "\u001b[0;31mFileNotFoundError\u001b[0m                         Traceback (most recent call last)",
            "\u001b[0;32m<ipython-input-12-d9f1f3b44b4c>\u001b[0m in \u001b[0;36m<cell line: 12>\u001b[0;34m()\u001b[0m\n\u001b[1;32m     10\u001b[0m \u001b[0mLt_tilda\u001b[0m\u001b[0;34m=\u001b[0m\u001b[0;36m0\u001b[0m\u001b[0;34m\u001b[0m\u001b[0;34m\u001b[0m\u001b[0m\n\u001b[1;32m     11\u001b[0m \u001b[0malpha\u001b[0m\u001b[0;34m=\u001b[0m\u001b[0;36m0.1\u001b[0m\u001b[0;34m\u001b[0m\u001b[0;34m\u001b[0m\u001b[0m\n\u001b[0;32m---> 12\u001b[0;31m \u001b[0muser\u001b[0m\u001b[0;34m=\u001b[0m\u001b[0mpd\u001b[0m\u001b[0;34m.\u001b[0m\u001b[0mread_csv\u001b[0m\u001b[0;34m(\u001b[0m\u001b[0;34m\"C:/Users/Dell/Desktop/moviedata/users.csv\"\u001b[0m\u001b[0;34m,\u001b[0m\u001b[0msep\u001b[0m\u001b[0;34m=\u001b[0m\u001b[0;34m\"\\t\"\u001b[0m\u001b[0;34m)\u001b[0m\u001b[0;34m\u001b[0m\u001b[0;34m\u001b[0m\u001b[0m\n\u001b[0m\u001b[1;32m     13\u001b[0m \u001b[0mratings\u001b[0m\u001b[0;34m=\u001b[0m\u001b[0mpd\u001b[0m\u001b[0;34m.\u001b[0m\u001b[0mread_csv\u001b[0m\u001b[0;34m(\u001b[0m\u001b[0;34m\"C:/Users/Dell/Desktop/moviedata/ratings.csv\"\u001b[0m\u001b[0;34m,\u001b[0m\u001b[0msep\u001b[0m\u001b[0;34m=\u001b[0m\u001b[0;34m\"\\t\"\u001b[0m\u001b[0;34m)\u001b[0m\u001b[0;34m\u001b[0m\u001b[0;34m\u001b[0m\u001b[0m\n\u001b[1;32m     14\u001b[0m \u001b[0mmovies\u001b[0m\u001b[0;34m=\u001b[0m\u001b[0mpd\u001b[0m\u001b[0;34m.\u001b[0m\u001b[0mread_csv\u001b[0m\u001b[0;34m(\u001b[0m\u001b[0;34m\"C:/Users/Dell/Desktop/moviedata/ratings.csv\"\u001b[0m\u001b[0;34m,\u001b[0m\u001b[0msep\u001b[0m\u001b[0;34m=\u001b[0m\u001b[0;34m\"\\t\"\u001b[0m\u001b[0;34m)\u001b[0m\u001b[0;34m\u001b[0m\u001b[0;34m\u001b[0m\u001b[0m\n",
            "\u001b[0;32m/usr/local/lib/python3.10/dist-packages/pandas/util/_decorators.py\u001b[0m in \u001b[0;36mwrapper\u001b[0;34m(*args, **kwargs)\u001b[0m\n\u001b[1;32m    209\u001b[0m                 \u001b[0;32melse\u001b[0m\u001b[0;34m:\u001b[0m\u001b[0;34m\u001b[0m\u001b[0;34m\u001b[0m\u001b[0m\n\u001b[1;32m    210\u001b[0m                     \u001b[0mkwargs\u001b[0m\u001b[0;34m[\u001b[0m\u001b[0mnew_arg_name\u001b[0m\u001b[0;34m]\u001b[0m \u001b[0;34m=\u001b[0m \u001b[0mnew_arg_value\u001b[0m\u001b[0;34m\u001b[0m\u001b[0;34m\u001b[0m\u001b[0m\n\u001b[0;32m--> 211\u001b[0;31m             \u001b[0;32mreturn\u001b[0m \u001b[0mfunc\u001b[0m\u001b[0;34m(\u001b[0m\u001b[0;34m*\u001b[0m\u001b[0margs\u001b[0m\u001b[0;34m,\u001b[0m \u001b[0;34m**\u001b[0m\u001b[0mkwargs\u001b[0m\u001b[0;34m)\u001b[0m\u001b[0;34m\u001b[0m\u001b[0;34m\u001b[0m\u001b[0m\n\u001b[0m\u001b[1;32m    212\u001b[0m \u001b[0;34m\u001b[0m\u001b[0m\n\u001b[1;32m    213\u001b[0m         \u001b[0;32mreturn\u001b[0m \u001b[0mcast\u001b[0m\u001b[0;34m(\u001b[0m\u001b[0mF\u001b[0m\u001b[0;34m,\u001b[0m \u001b[0mwrapper\u001b[0m\u001b[0;34m)\u001b[0m\u001b[0;34m\u001b[0m\u001b[0;34m\u001b[0m\u001b[0m\n",
            "\u001b[0;32m/usr/local/lib/python3.10/dist-packages/pandas/util/_decorators.py\u001b[0m in \u001b[0;36mwrapper\u001b[0;34m(*args, **kwargs)\u001b[0m\n\u001b[1;32m    329\u001b[0m                     \u001b[0mstacklevel\u001b[0m\u001b[0;34m=\u001b[0m\u001b[0mfind_stack_level\u001b[0m\u001b[0;34m(\u001b[0m\u001b[0;34m)\u001b[0m\u001b[0;34m,\u001b[0m\u001b[0;34m\u001b[0m\u001b[0;34m\u001b[0m\u001b[0m\n\u001b[1;32m    330\u001b[0m                 )\n\u001b[0;32m--> 331\u001b[0;31m             \u001b[0;32mreturn\u001b[0m \u001b[0mfunc\u001b[0m\u001b[0;34m(\u001b[0m\u001b[0;34m*\u001b[0m\u001b[0margs\u001b[0m\u001b[0;34m,\u001b[0m \u001b[0;34m**\u001b[0m\u001b[0mkwargs\u001b[0m\u001b[0;34m)\u001b[0m\u001b[0;34m\u001b[0m\u001b[0;34m\u001b[0m\u001b[0m\n\u001b[0m\u001b[1;32m    332\u001b[0m \u001b[0;34m\u001b[0m\u001b[0m\n\u001b[1;32m    333\u001b[0m         \u001b[0;31m# error: \"Callable[[VarArg(Any), KwArg(Any)], Any]\" has no\u001b[0m\u001b[0;34m\u001b[0m\u001b[0;34m\u001b[0m\u001b[0m\n",
            "\u001b[0;32m/usr/local/lib/python3.10/dist-packages/pandas/io/parsers/readers.py\u001b[0m in \u001b[0;36mread_csv\u001b[0;34m(filepath_or_buffer, sep, delimiter, header, names, index_col, usecols, squeeze, prefix, mangle_dupe_cols, dtype, engine, converters, true_values, false_values, skipinitialspace, skiprows, skipfooter, nrows, na_values, keep_default_na, na_filter, verbose, skip_blank_lines, parse_dates, infer_datetime_format, keep_date_col, date_parser, dayfirst, cache_dates, iterator, chunksize, compression, thousands, decimal, lineterminator, quotechar, quoting, doublequote, escapechar, comment, encoding, encoding_errors, dialect, error_bad_lines, warn_bad_lines, on_bad_lines, delim_whitespace, low_memory, memory_map, float_precision, storage_options)\u001b[0m\n\u001b[1;32m    948\u001b[0m     \u001b[0mkwds\u001b[0m\u001b[0;34m.\u001b[0m\u001b[0mupdate\u001b[0m\u001b[0;34m(\u001b[0m\u001b[0mkwds_defaults\u001b[0m\u001b[0;34m)\u001b[0m\u001b[0;34m\u001b[0m\u001b[0;34m\u001b[0m\u001b[0m\n\u001b[1;32m    949\u001b[0m \u001b[0;34m\u001b[0m\u001b[0m\n\u001b[0;32m--> 950\u001b[0;31m     \u001b[0;32mreturn\u001b[0m \u001b[0m_read\u001b[0m\u001b[0;34m(\u001b[0m\u001b[0mfilepath_or_buffer\u001b[0m\u001b[0;34m,\u001b[0m \u001b[0mkwds\u001b[0m\u001b[0;34m)\u001b[0m\u001b[0;34m\u001b[0m\u001b[0;34m\u001b[0m\u001b[0m\n\u001b[0m\u001b[1;32m    951\u001b[0m \u001b[0;34m\u001b[0m\u001b[0m\n\u001b[1;32m    952\u001b[0m \u001b[0;34m\u001b[0m\u001b[0m\n",
            "\u001b[0;32m/usr/local/lib/python3.10/dist-packages/pandas/io/parsers/readers.py\u001b[0m in \u001b[0;36m_read\u001b[0;34m(filepath_or_buffer, kwds)\u001b[0m\n\u001b[1;32m    603\u001b[0m \u001b[0;34m\u001b[0m\u001b[0m\n\u001b[1;32m    604\u001b[0m     \u001b[0;31m# Create the parser.\u001b[0m\u001b[0;34m\u001b[0m\u001b[0;34m\u001b[0m\u001b[0m\n\u001b[0;32m--> 605\u001b[0;31m     \u001b[0mparser\u001b[0m \u001b[0;34m=\u001b[0m \u001b[0mTextFileReader\u001b[0m\u001b[0;34m(\u001b[0m\u001b[0mfilepath_or_buffer\u001b[0m\u001b[0;34m,\u001b[0m \u001b[0;34m**\u001b[0m\u001b[0mkwds\u001b[0m\u001b[0;34m)\u001b[0m\u001b[0;34m\u001b[0m\u001b[0;34m\u001b[0m\u001b[0m\n\u001b[0m\u001b[1;32m    606\u001b[0m \u001b[0;34m\u001b[0m\u001b[0m\n\u001b[1;32m    607\u001b[0m     \u001b[0;32mif\u001b[0m \u001b[0mchunksize\u001b[0m \u001b[0;32mor\u001b[0m \u001b[0miterator\u001b[0m\u001b[0;34m:\u001b[0m\u001b[0;34m\u001b[0m\u001b[0;34m\u001b[0m\u001b[0m\n",
            "\u001b[0;32m/usr/local/lib/python3.10/dist-packages/pandas/io/parsers/readers.py\u001b[0m in \u001b[0;36m__init__\u001b[0;34m(self, f, engine, **kwds)\u001b[0m\n\u001b[1;32m   1440\u001b[0m \u001b[0;34m\u001b[0m\u001b[0m\n\u001b[1;32m   1441\u001b[0m         \u001b[0mself\u001b[0m\u001b[0;34m.\u001b[0m\u001b[0mhandles\u001b[0m\u001b[0;34m:\u001b[0m \u001b[0mIOHandles\u001b[0m \u001b[0;34m|\u001b[0m \u001b[0;32mNone\u001b[0m \u001b[0;34m=\u001b[0m \u001b[0;32mNone\u001b[0m\u001b[0;34m\u001b[0m\u001b[0;34m\u001b[0m\u001b[0m\n\u001b[0;32m-> 1442\u001b[0;31m         \u001b[0mself\u001b[0m\u001b[0;34m.\u001b[0m\u001b[0m_engine\u001b[0m \u001b[0;34m=\u001b[0m \u001b[0mself\u001b[0m\u001b[0;34m.\u001b[0m\u001b[0m_make_engine\u001b[0m\u001b[0;34m(\u001b[0m\u001b[0mf\u001b[0m\u001b[0;34m,\u001b[0m \u001b[0mself\u001b[0m\u001b[0;34m.\u001b[0m\u001b[0mengine\u001b[0m\u001b[0;34m)\u001b[0m\u001b[0;34m\u001b[0m\u001b[0;34m\u001b[0m\u001b[0m\n\u001b[0m\u001b[1;32m   1443\u001b[0m \u001b[0;34m\u001b[0m\u001b[0m\n\u001b[1;32m   1444\u001b[0m     \u001b[0;32mdef\u001b[0m \u001b[0mclose\u001b[0m\u001b[0;34m(\u001b[0m\u001b[0mself\u001b[0m\u001b[0;34m)\u001b[0m \u001b[0;34m->\u001b[0m \u001b[0;32mNone\u001b[0m\u001b[0;34m:\u001b[0m\u001b[0;34m\u001b[0m\u001b[0;34m\u001b[0m\u001b[0m\n",
            "\u001b[0;32m/usr/local/lib/python3.10/dist-packages/pandas/io/parsers/readers.py\u001b[0m in \u001b[0;36m_make_engine\u001b[0;34m(self, f, engine)\u001b[0m\n\u001b[1;32m   1733\u001b[0m                 \u001b[0;32mif\u001b[0m \u001b[0;34m\"b\"\u001b[0m \u001b[0;32mnot\u001b[0m \u001b[0;32min\u001b[0m \u001b[0mmode\u001b[0m\u001b[0;34m:\u001b[0m\u001b[0;34m\u001b[0m\u001b[0;34m\u001b[0m\u001b[0m\n\u001b[1;32m   1734\u001b[0m                     \u001b[0mmode\u001b[0m \u001b[0;34m+=\u001b[0m \u001b[0;34m\"b\"\u001b[0m\u001b[0;34m\u001b[0m\u001b[0;34m\u001b[0m\u001b[0m\n\u001b[0;32m-> 1735\u001b[0;31m             self.handles = get_handle(\n\u001b[0m\u001b[1;32m   1736\u001b[0m                 \u001b[0mf\u001b[0m\u001b[0;34m,\u001b[0m\u001b[0;34m\u001b[0m\u001b[0;34m\u001b[0m\u001b[0m\n\u001b[1;32m   1737\u001b[0m                 \u001b[0mmode\u001b[0m\u001b[0;34m,\u001b[0m\u001b[0;34m\u001b[0m\u001b[0;34m\u001b[0m\u001b[0m\n",
            "\u001b[0;32m/usr/local/lib/python3.10/dist-packages/pandas/io/common.py\u001b[0m in \u001b[0;36mget_handle\u001b[0;34m(path_or_buf, mode, encoding, compression, memory_map, is_text, errors, storage_options)\u001b[0m\n\u001b[1;32m    854\u001b[0m         \u001b[0;32mif\u001b[0m \u001b[0mioargs\u001b[0m\u001b[0;34m.\u001b[0m\u001b[0mencoding\u001b[0m \u001b[0;32mand\u001b[0m \u001b[0;34m\"b\"\u001b[0m \u001b[0;32mnot\u001b[0m \u001b[0;32min\u001b[0m \u001b[0mioargs\u001b[0m\u001b[0;34m.\u001b[0m\u001b[0mmode\u001b[0m\u001b[0;34m:\u001b[0m\u001b[0;34m\u001b[0m\u001b[0;34m\u001b[0m\u001b[0m\n\u001b[1;32m    855\u001b[0m             \u001b[0;31m# Encoding\u001b[0m\u001b[0;34m\u001b[0m\u001b[0;34m\u001b[0m\u001b[0m\n\u001b[0;32m--> 856\u001b[0;31m             handle = open(\n\u001b[0m\u001b[1;32m    857\u001b[0m                 \u001b[0mhandle\u001b[0m\u001b[0;34m,\u001b[0m\u001b[0;34m\u001b[0m\u001b[0;34m\u001b[0m\u001b[0m\n\u001b[1;32m    858\u001b[0m                 \u001b[0mioargs\u001b[0m\u001b[0;34m.\u001b[0m\u001b[0mmode\u001b[0m\u001b[0;34m,\u001b[0m\u001b[0;34m\u001b[0m\u001b[0;34m\u001b[0m\u001b[0m\n",
            "\u001b[0;31mFileNotFoundError\u001b[0m: [Errno 2] No such file or directory: 'C:/Users/Dell/Desktop/moviedata/users.csv'"
          ]
        }
      ],
      "source": [
        "\n",
        "feedback={\n",
        "    \"loss_t\":0,\n",
        "    \"loss_tilda\":0\n",
        "}\n",
        "D=2000**0.5\n",
        "G=1200**0.5\n",
        "e_l=1e-4\n",
        "e_u=10\n",
        "Lt=0\n",
        "Lt_tilda=0\n",
        "alpha=0.1\n",
        "user=pd.read_csv(\"C:/Users/Dell/Desktop/moviedata/users.csv\",sep=\"\\t\")\n",
        "ratings=pd.read_csv(\"C:/Users/Dell/Desktop/moviedata/ratings.csv\",sep=\"\\t\")\n",
        "movies=pd.read_csv(\"C:/Users/Dell/Desktop/moviedata/ratings.csv\",sep=\"\\t\")\n",
        "def find_theta_tilda(userId):\n",
        "    [reformed_data,column_names]=reform(users,ratings,True,userId)\n",
        "    Pu,Qv=matrix_factorization(reformed_data,10,0.1,100)\n",
        "    feedback['theta_tilda']=Pu\n",
        "    D_pred = np.dot(Pu, Qv.T)\n",
        "    pred_rating={}\n",
        "    for i in range(0,len(column_names)):\n",
        "        pred_rating[column_names[i]]=D_pred[0][i]\n",
        "    print(pred_rating)\n",
        "def find_zt(userId):\n",
        "    [reformed_data,colum_name]=reformed(users,ratings,False,userId)\n",
        "    latent=matrix_factorization(reformed_data,10,0.1,100)\n",
        "    feedback['zt']=latent\n",
        "    Pu=latent[0][userId-1]\n",
        "    Qv=latent[1]\n",
        "    D_pred = np.dot(Pu, Qv.T)\n",
        "    print(D_pred )\n",
        "    rmse = np.sqrt(np.mean((D_pred - D)**2))\n",
        "    feedback['current']=rmse\n",
        "def find_actual(userId):\n",
        "    t=t+1\n",
        "    find_zt(userId)\n",
        "    find_theta_tilda(userId)\n",
        "    theta_tilda=feedback[\"theta_tilda\"]\n",
        "    feedback['gloos_t-1']=(1-beta)*feedback[\"loss_t-1\"]\n",
        "    z_t=feedback[\"z_t\"]\n",
        "    beta=updatebeta(feedback)\n",
        "    prediction={}\n",
        "    x_t1=beta*z_t+beta*(1-theta_tilda)\n",
        "    prediction[\"z_t\"]=x_t1\n",
        "    prediction[\"beta\"]=beta\n",
        "    return prediction\n",
        "def updatebeta(feedback):\n",
        "    Lt+=feedback[\"loss_t-1\"]\n",
        "    Lt_tilda+=feedback[\"loss_def_t-1\"]\n",
        "    bdgt=(1+alpha)*Lt_tilda-Lt\n",
        "    rt=(1-max(0,((-bdgt-alpha*el)/(D*G))+1))*D\n",
        "    dis=np.linalg.norm(feedback['zt']- feedback[\"theta_tilda\"])\n",
        "    if dis>=rt:\n",
        "        beta=(1-(rt/dis))\n",
        "    else:\n",
        "        beta=0\n",
        "    feedback['loss_t-1']=feedback['current']\n",
        "    return beta"
      ]
    },
    {
      "cell_type": "code",
      "execution_count": null,
      "metadata": {
        "colab": {
          "base_uri": "https://localhost:8080/"
        },
        "id": "mLPk5SEbHO0Q",
        "outputId": "125acf2a-e28b-4c6d-de59-ccdc37e87e4c"
      },
      "outputs": [
        {
          "output_type": "stream",
          "name": "stdout",
          "text": [
            "Looking in indexes: https://pypi.org/simple, https://us-python.pkg.dev/colab-wheels/public/simple/\n",
            "Collecting gower\n",
            "  Downloading gower-0.1.2-py3-none-any.whl (5.2 kB)\n",
            "Requirement already satisfied: numpy in /usr/local/lib/python3.10/dist-packages (from gower) (1.24.3)\n",
            "Requirement already satisfied: scipy in /usr/local/lib/python3.10/dist-packages (from gower) (1.10.1)\n"
          ]
        }
      ],
      "source": [
        "#grove find dissimilarities between users w.r.t the age,gendex and location(Zipcode).we are taking only top 5 similar users\n",
        "!pip install gower\n",
        "import gower\n",
        "#new user is added to useres data frame\n",
        "users.loc[len(users.index)] = [6040,6041,\"M\",25,10,12233,\"25-34\",\"other or not specified\"]\n",
        "print(users)\n",
        "indx=users.shape[0]\n",
        "refrence_for_new_users=gower.gower_topn(users.iloc[indx-1:,:], users.iloc[:,], n = 6)\n",
        "\n",
        "#taking similar 5 users latent vectors and averaging them for finding new user theta_tidal\n",
        "new_users_without_him=refrence_for_new_users['index'][1:]\n",
        "new_user_latentvecors=np.zeros(10)\n",
        "for x in new_users_without_him:\n",
        "  print(Pu[x])\n",
        "  new_user_latentvecors=new_user_latentvecors+ Pu[x]\n",
        "new_user_latentvecors=new_user_latentvecors/len(new_users_without_him)\n",
        "print(new_user_latentvecors)\n",
        "new_ratings=np.dot(new_user_latentvecors,Qv.T)\n",
        "print(len(new_ratings))\n",
        "\n",
        "\n",
        "#recomadaing top5 movies to new users with movieid\n",
        "top_5ratings=sorted(range(len(new_ratings)), key=lambda i: new_ratings[i],reverse=True)[0:5]\n",
        "print(top_5ratings)\n",
        "recomend_new_movies=[]\n",
        "for i in top_5ratings:\n",
        "  recomend_new_movies.append(movie_index[i])\n",
        "print(recomend_new_movies)"
      ]
    },
    {
      "cell_type": "code",
      "execution_count": null,
      "metadata": {
        "colab": {
          "base_uri": "https://localhost:8080/",
          "height": 269
        },
        "id": "uZk5LSAa1sCC",
        "outputId": "c955b51f-35f0-40e2-f40b-59c59a8830f3"
      },
      "outputs": [
        {
          "name": "stdout",
          "output_type": "stream",
          "text": [
            "6041\n",
            "[44]\n"
          ]
        },
        {
          "ename": "TypeError",
          "evalue": "ignored",
          "output_type": "error",
          "traceback": [
            "\u001b[0;31m---------------------------------------------------------------------------\u001b[0m",
            "\u001b[0;31mTypeError\u001b[0m                                 Traceback (most recent call last)",
            "\u001b[0;32m<ipython-input-14-1806618dac11>\u001b[0m in \u001b[0;36m<cell line: 10>\u001b[0;34m()\u001b[0m\n\u001b[1;32m      8\u001b[0m \u001b[0mx\u001b[0m\u001b[0;34m,\u001b[0m\u001b[0;34m=\u001b[0m\u001b[0mnp\u001b[0m\u001b[0;34m.\u001b[0m\u001b[0mwhere\u001b[0m\u001b[0;34m(\u001b[0m\u001b[0mmovie_index\u001b[0m\u001b[0;34m==\u001b[0m\u001b[0mmovie_id\u001b[0m\u001b[0;34m)\u001b[0m\u001b[0;34m\u001b[0m\u001b[0;34m\u001b[0m\u001b[0m\n\u001b[1;32m      9\u001b[0m \u001b[0mprint\u001b[0m\u001b[0;34m(\u001b[0m\u001b[0mx\u001b[0m\u001b[0;34m)\u001b[0m\u001b[0;34m\u001b[0m\u001b[0;34m\u001b[0m\u001b[0m\n\u001b[0;32m---> 10\u001b[0;31m \u001b[0mprint\u001b[0m\u001b[0;34m(\u001b[0m \u001b[0mD\u001b[0m\u001b[0;34m[\u001b[0m\u001b[0muser_id\u001b[0m\u001b[0;34m-\u001b[0m\u001b[0;36m1\u001b[0m\u001b[0;34m,\u001b[0m\u001b[0mx\u001b[0m\u001b[0;34m[\u001b[0m\u001b[0;36m0\u001b[0m\u001b[0;34m]\u001b[0m\u001b[0;34m]\u001b[0m\u001b[0;34m)\u001b[0m\u001b[0;34m\u001b[0m\u001b[0;34m\u001b[0m\u001b[0m\n\u001b[0m\u001b[1;32m     11\u001b[0m \u001b[0;32mif\u001b[0m \u001b[0mx\u001b[0m\u001b[0;34m.\u001b[0m\u001b[0msize\u001b[0m\u001b[0;34m>\u001b[0m\u001b[0;36m0\u001b[0m\u001b[0;34m:\u001b[0m\u001b[0;34m\u001b[0m\u001b[0;34m\u001b[0m\u001b[0m\n\u001b[1;32m     12\u001b[0m   \u001b[0mD\u001b[0m\u001b[0;34m[\u001b[0m\u001b[0muser_id\u001b[0m\u001b[0;34m-\u001b[0m\u001b[0;36m1\u001b[0m\u001b[0;34m,\u001b[0m\u001b[0mx\u001b[0m\u001b[0;34m[\u001b[0m\u001b[0;36m0\u001b[0m\u001b[0;34m]\u001b[0m\u001b[0;34m]\u001b[0m\u001b[0;34m=\u001b[0m\u001b[0mrating\u001b[0m\u001b[0;34m\u001b[0m\u001b[0;34m\u001b[0m\u001b[0m\n",
            "\u001b[0;31mTypeError\u001b[0m: 'float' object is not subscriptable"
          ]
        }
      ],
      "source": [
        "#new user gives rating to old movie\n",
        "indx=users.shape[0]\n",
        "print(indx)\n",
        "existing_user_rating=[6040,45,3.0]\n",
        "[user_id,movie_id,rating]=existing_user_rating\n",
        "#adding to rating vector\n",
        "# D[existing_user_rating[0]-1][]\n",
        "x,=np.where(movie_index==movie_id)\n",
        "print(x)\n",
        "print( D[user_id-1,x[0]])\n",
        "if x.size>0:\n",
        "  D[user_id-1,x[0]]=rating\n",
        "\n",
        "\n",
        "\n",
        "\n"
      ]
    },
    {
      "cell_type": "code",
      "execution_count": null,
      "metadata": {
        "id": "DVNn_GOc3lLT"
      },
      "outputs": [],
      "source": [
        "def reform(users,ratings,new_users):\n",
        "    if new_users==True:\n",
        "        dis=gower.gower_matrix(users)\n",
        "        depend_users=gower.gower_topn(users.iloc[indx-1:,:], users.iloc[:,], n = 10)\n",
        "        depend_users=depend_users['index'][1:]\n",
        "        res=users.iloc[depend_users]\n",
        "        ratings.set_index('userId',inplace=True)\n",
        "        df=ratings.loc[depend_users]\n",
        "        ratings.to_csv(\"rat.csv\")\n",
        "        dfs=pd.read_csv(\"rat.csv\")\n",
        "    else:\n",
        "        dfs=ratings\n",
        "    pivoted_data=dfs.pivot(index=\"userId\",columns=\"movieId\",values=\"rating\")\n",
        "    column_name=list(pivoted_data.columns.values)\n",
        "    # col_list=list(pivoted_data.columns)\n",
        "    # print(col_list);\n",
        "    nparray=pivoted_data.to_numpy()\n",
        "    print(nparray.shape)\n",
        "    D=np.nan_to_num(nparray)\n",
        "    return [D,column_name]"
      ]
    },
    {
      "cell_type": "code",
      "execution_count": null,
      "metadata": {
        "id": "kVCmO619UE8r"
      },
      "outputs": [],
      "source": []
    }
  ],
  "metadata": {
    "accelerator": "TPU",
    "colab": {
      "provenance": [],
      "mount_file_id": "1S7R_NAhx2zM-ZyndNiwKp7LpAGpVpAoR",
      "authorship_tag": "ABX9TyPAWI4R84N/SaF5YzsV6BTS",
      "include_colab_link": true
    },
    "gpuClass": "standard",
    "kernelspec": {
      "display_name": "Python 3",
      "name": "python3"
    },
    "language_info": {
      "name": "python"
    }
  },
  "nbformat": 4,
  "nbformat_minor": 0
}